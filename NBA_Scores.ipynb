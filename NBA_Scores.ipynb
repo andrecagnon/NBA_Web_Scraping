{
 "cells": [
  {
   "cell_type": "markdown",
   "metadata": {},
   "source": [
    "## Coletando e Exibindo Dados da NBA com API"
   ]
  },
  {
   "cell_type": "code",
   "execution_count": null,
   "metadata": {},
   "outputs": [],
   "source": [
    "from requests import get "
   ]
  },
  {
   "cell_type": "markdown",
   "metadata": {},
   "source": [
    "### Criando duas váriáveis globais para a URL e o JSON"
   ]
  },
  {
   "cell_type": "code",
   "execution_count": null,
   "metadata": {},
   "outputs": [],
   "source": [
    "BASE_URL = \"http://data.nba.net\"\n",
    "ALL_JSON = \"/prod/v1/today.json\""
   ]
  },
  {
   "cell_type": "markdown",
   "metadata": {},
   "source": [
    "### Função para coletar os dados"
   ]
  },
  {
   "cell_type": "code",
   "execution_count": null,
   "metadata": {},
   "outputs": [],
   "source": [
    "def get_links():\n",
    "    response = get(BASE_URL+ALL_JSON).json() #forçando para manter o retorno como dicionário\n",
    "    return response[\"links\"]"
   ]
  },
  {
   "cell_type": "markdown",
   "metadata": {},
   "source": [
    "### Função para captar as informações dos jogos"
   ]
  },
  {
   "cell_type": "code",
   "execution_count": null,
   "metadata": {},
   "outputs": [],
   "source": [
    "\n",
    "def get_currentScoreboard():\n",
    "    #acessando a chave currentScoreboard dentro do dicionário get_links\n",
    "    response = get(BASE_URL+get_links()[\"currentScoreboard\"]).json()\n",
    "    return response[\"games\"]\n",
    "\n",
    "    for game in games:\n",
    "        home_team = game[\"hTeam\"]\n",
    "        away_team = game[\"vTeam\"]\n",
    "        clock = game[\"clock\"]\n",
    "        period = game[\"period\"]\n",
    "\n",
    "        print(\"#########################################\\n\")\n",
    "        print(f\"{home_team['triCode']} vs {away_team['triCode']}\")\n",
    "        print(f\"SCORE: {home_team['score']} x {away_team['score']}\")\n",
    "        print(f\"{clock} - {period['current']}\\n\")\n",
    "        "
   ]
  },
  {
   "cell_type": "markdown",
   "metadata": {},
   "source": [
    "### Função para captar as informações dos times"
   ]
  },
  {
   "cell_type": "code",
   "execution_count": null,
   "metadata": {},
   "outputs": [],
   "source": [
    "def get_teams_stats():\n",
    "    stats = get_links()[\"leagueTeamStatsLeaders\"]\n",
    "    data = get(BASE_URL+stats).json()\n",
    "    teams = data[\"league\"][\"standard\"][\"regularSeason\"][\"teams\"]\n",
    "    \n",
    "    #filtrar os resultados que apresentem informações\n",
    "    teams = list(filter(lambda x: x[\"name\"] != \"Team\",teams)) \n",
    "   \n",
    "    #Ordenar por rank\n",
    "    teams.sort(key = lambda x: int(x[\"ppg\"][\"rank\"]))\n",
    "   \n",
    "    for team in teams:\n",
    "        team_name = team[\"name\"]\n",
    "        nickname = team[\"nickname\"]\n",
    "        ppg_avg = team[\"ppg\"][\"avg\"]\n",
    "        rank = team[\"ppg\"][\"rank\"]\n",
    "        print(f\"RANK: {rank} | {team_name} - {nickname} | PPG Médio: {ppg_avg}\")\n",
    "        \n",
    "        print(f\"{team_name} - {nickname} | PPG: {ppg}\")\n"
   ]
  },
  {
   "cell_type": "markdown",
   "metadata": {},
   "source": [
    "### Menu para o usuário"
   ]
  },
  {
   "cell_type": "code",
   "execution_count": null,
   "metadata": {},
   "outputs": [],
   "source": [
    "while True:\n",
    "    print(\"########################\\n\")\n",
    "    print(\"SEJA BEM VINDO!!!! DADOS NBA\\n\")\n",
    "    print(\"1 - Ver Jogos\\n\")\n",
    "    print(\"2 - Ver Times por PPG\\n\")\n",
    "    user_choice = input(\"Opção: \")\n",
    "\n",
    "    if user_choice == \"1\":\n",
    "        get_currentScoreboard()\n",
    "    elif user_choice == \"2\":\n",
    "        get_teams_stats()\n",
    "    else:\n",
    "        continue"
   ]
  }
 ],
 "metadata": {
  "kernelspec": {
   "display_name": "Python 3",
   "language": "python",
   "name": "python3"
  },
  "language_info": {
   "codemirror_mode": {
    "name": "ipython",
    "version": 3
   },
   "file_extension": ".py",
   "mimetype": "text/x-python",
   "name": "python",
   "nbconvert_exporter": "python",
   "pygments_lexer": "ipython3",
   "version": "3.8.5"
  }
 },
 "nbformat": 4,
 "nbformat_minor": 4
}
